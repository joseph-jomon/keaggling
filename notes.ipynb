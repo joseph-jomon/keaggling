{
 "cells": [
  {
   "cell_type": "markdown",
   "metadata": {},
   "source": [
    "# Imbalanced dataset\n",
    "| Percentage of data belonging to minority class | Degree of imbalance |\n",
    "|------------------------------------------------|---------------------|\n",
    "| 20-40% of the datast| Mild |\n",
    "| 1-20% of the dataset| Moderate|\n",
    "| <1% | Extreme |"
   ]
  },
  {
   "cell_type": "markdown",
   "metadata": {},
   "source": [
    "Ideally, each batch should contain multiple minority class examples. Batches that don't contain sufficient minority classes will train very poorly. The batch size should be several times greater than the imbalance ratio. For example, if the imbalance ratio is 100:1, then the batch size should be at least 500."
   ]
  }
 ],
 "metadata": {
  "language_info": {
   "name": "python"
  }
 },
 "nbformat": 4,
 "nbformat_minor": 2
}
